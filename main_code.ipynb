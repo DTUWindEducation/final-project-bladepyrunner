{
 "cells": [
  {
   "cell_type": "code",
   "execution_count": 5,
   "metadata": {},
   "outputs": [],
   "source": [
    "import pandas as pd\n",
    "import xarray as xr\n",
    "from pathlib import Path\n",
    "import datetime\n",
    "from cftime import num2date\n",
    "import matplotlib.pyplot as plt"
   ]
  },
  {
   "cell_type": "code",
   "execution_count": 2,
   "metadata": {},
   "outputs": [],
   "source": [
    "# Define the folder path containing the NetCDF files\n",
    "folder_path = Path('inputs\\WindData')\n",
    "datasets = []  # List to store datasets\n",
    "\n",
    "for file in folder_path.iterdir():\n",
    "    ds = xr.open_dataset(file)  # Open each NetCDF file\n",
    "    datasets.append(ds)  # Store dataset in list\n",
    "\n",
    "# Concatenate along a specific dimension (e.g., 'time' if it exists)\n",
    "combined_ds = xr.concat(datasets, dim='valid_time')\n",
    "\n",
    "# Convert the combined dataset to a pandas DataFrame\n",
    "WindData = combined_ds.to_dataframe().reset_index()\n"
   ]
  },
  {
   "cell_type": "code",
   "execution_count": 11,
   "metadata": {},
   "outputs": [
    {
     "data": {
      "application/vnd.microsoft.datawrangler.viewer.v0+json": {
       "columns": [
        {
         "name": "index",
         "rawType": "int64",
         "type": "integer"
        },
        {
         "name": "valid_time",
         "rawType": "datetime64[ns]",
         "type": "datetime"
        },
        {
         "name": "latitude",
         "rawType": "float64",
         "type": "float"
        },
        {
         "name": "longitude",
         "rawType": "float64",
         "type": "float"
        },
        {
         "name": "number",
         "rawType": "int64",
         "type": "integer"
        },
        {
         "name": "expver",
         "rawType": "object",
         "type": "string"
        },
        {
         "name": "u10",
         "rawType": "float32",
         "type": "float"
        },
        {
         "name": "v10",
         "rawType": "float32",
         "type": "float"
        },
        {
         "name": "u100",
         "rawType": "float32",
         "type": "float"
        },
        {
         "name": "v100",
         "rawType": "float32",
         "type": "float"
        }
       ],
       "conversionMethod": "pd.DataFrame",
       "ref": "0f675bf7-3c03-4a0d-a75b-d710acd0ddaf",
       "rows": [
        [
         "0",
         "1997-01-01 00:00:00",
         "8.0",
         "55.5",
         "0",
         "0001",
         "-5.129883",
         "-7.070343",
         "-5.775009",
         "-7.8935394"
        ],
        [
         "1",
         "1997-01-01 00:00:00",
         "8.0",
         "55.75",
         "0",
         "0001",
         "-5.1289062",
         "-7.0742493",
         "-5.7671967",
         "-7.9160004"
        ],
        [
         "2",
         "1997-01-01 00:00:00",
         "7.75",
         "55.5",
         "0",
         "0001",
         "-5.064453",
         "-7.1513977",
         "-5.692978",
         "-7.9804535"
        ],
        [
         "3",
         "1997-01-01 00:00:00",
         "7.75",
         "55.75",
         "0",
         "0001",
         "-5.0527344",
         "-7.126007",
         "-5.681259",
         "-7.95018"
        ],
        [
         "4",
         "1997-01-01 01:00:00",
         "8.0",
         "55.5",
         "0",
         "0001",
         "-5.460739",
         "-7.1753693",
         "-6.158142",
         "-8.034683"
        ],
        [
         "5",
         "1997-01-01 01:00:00",
         "8.0",
         "55.75",
         "0",
         "0001",
         "-5.566208",
         "-7.1529083",
         "-6.2753296",
         "-8.0385895"
        ],
        [
         "6",
         "1997-01-01 01:00:00",
         "7.75",
         "55.5",
         "0",
         "0001",
         "-5.4128876",
         "-7.1685333",
         "-6.093689",
         "-8.018082"
        ],
        [
         "7",
         "1997-01-01 01:00:00",
         "7.75",
         "55.75",
         "0",
         "0001",
         "-5.523239",
         "-7.150955",
         "-6.216736",
         "-8.011246"
        ],
        [
         "8",
         "1997-01-01 02:00:00",
         "8.0",
         "55.5",
         "0",
         "0001",
         "-5.9287567",
         "-7.3208466",
         "-6.7024536",
         "-8.22435"
        ],
        [
         "9",
         "1997-01-01 02:00:00",
         "8.0",
         "55.75",
         "0",
         "0001",
         "-5.8760223",
         "-7.3169403",
         "-6.6536255",
         "-8.251694"
        ],
        [
         "10",
         "1997-01-01 02:00:00",
         "7.75",
         "55.5",
         "0",
         "0001",
         "-5.7949677",
         "-7.286667",
         "-6.540344",
         "-8.170639"
        ],
        [
         "11",
         "1997-01-01 02:00:00",
         "7.75",
         "55.75",
         "0",
         "0001",
         "-5.80571",
         "-7.2700653",
         "-6.5579224",
         "-8.175522"
        ],
        [
         "12",
         "1997-01-01 03:00:00",
         "8.0",
         "55.5",
         "0",
         "0001",
         "-6.199417",
         "-7.42099",
         "-7.0327606",
         "-8.370895"
        ],
        [
         "13",
         "1997-01-01 03:00:00",
         "8.0",
         "55.75",
         "0",
         "0001",
         "-6.0763702",
         "-7.376068",
         "-6.9077606",
         "-8.349411"
        ],
        [
         "14",
         "1997-01-01 03:00:00",
         "7.75",
         "55.5",
         "0",
         "0001",
         "-6.1164093",
         "-7.3457947",
         "-6.927292",
         "-8.274216"
        ],
        [
         "15",
         "1997-01-01 03:00:00",
         "7.75",
         "55.75",
         "0",
         "0001",
         "-6.1222687",
         "-7.332123",
         "-6.9370575",
         "-8.273239"
        ],
        [
         "16",
         "1997-01-01 04:00:00",
         "8.0",
         "55.5",
         "0",
         "0001",
         "-6.358658",
         "-7.426773",
         "-7.2336426",
         "-8.400116"
        ],
        [
         "17",
         "1997-01-01 04:00:00",
         "8.0",
         "55.75",
         "0",
         "0001",
         "-6.3371735",
         "-7.381851",
         "-7.2043457",
         "-8.358124"
        ],
        [
         "18",
         "1997-01-01 04:00:00",
         "7.75",
         "55.5",
         "0",
         "0001",
         "-6.3996735",
         "-7.4140778",
         "-7.274658",
         "-8.381561"
        ],
        [
         "19",
         "1997-01-01 04:00:00",
         "7.75",
         "55.75",
         "0",
         "0001",
         "-6.407486",
         "-7.417984",
         "-7.2785645",
         "-8.388397"
        ],
        [
         "20",
         "1997-01-01 05:00:00",
         "8.0",
         "55.5",
         "0",
         "0001",
         "-6.4021606",
         "-7.466568",
         "-7.301773",
         "-8.460022"
        ],
        [
         "21",
         "1997-01-01 05:00:00",
         "8.0",
         "55.75",
         "0",
         "0001",
         "-6.3464966",
         "-7.402115",
         "-7.2334137",
         "-8.381897"
        ],
        [
         "22",
         "1997-01-01 05:00:00",
         "7.75",
         "55.5",
         "0",
         "0001",
         "-6.425598",
         "-7.5232086",
         "-7.333023",
         "-8.521545"
        ],
        [
         "23",
         "1997-01-01 05:00:00",
         "7.75",
         "55.75",
         "0",
         "0001",
         "-6.3650513",
         "-7.5212555",
         "-7.256851",
         "-8.521545"
        ],
        [
         "24",
         "1997-01-01 06:00:00",
         "8.0",
         "55.5",
         "0",
         "0001",
         "-6.163315",
         "-7.7267",
         "-7.0341797",
         "-8.755875"
        ],
        [
         "25",
         "1997-01-01 06:00:00",
         "8.0",
         "55.75",
         "0",
         "0001",
         "-6.031479",
         "-7.686661",
         "-6.879883",
         "-8.695328"
        ],
        [
         "26",
         "1997-01-01 06:00:00",
         "7.75",
         "55.5",
         "0",
         "0001",
         "-6.1242523",
         "-7.796036",
         "-6.995117",
         "-8.8320465"
        ],
        [
         "27",
         "1997-01-01 06:00:00",
         "7.75",
         "55.75",
         "0",
         "0001",
         "-5.9943695",
         "-7.7892",
         "-6.8408203",
         "-8.8164215"
        ],
        [
         "28",
         "1997-01-01 07:00:00",
         "8.0",
         "55.5",
         "0",
         "0001",
         "-5.7565002",
         "-7.884903",
         "-6.5638885",
         "-8.926834"
        ],
        [
         "29",
         "1997-01-01 07:00:00",
         "8.0",
         "55.75",
         "0",
         "0001",
         "-5.5768127",
         "-7.88295",
         "-6.3568573",
         "-8.912186"
        ],
        [
         "30",
         "1997-01-01 07:00:00",
         "7.75",
         "55.5",
         "0",
         "0001",
         "-5.726227",
         "-7.8975983",
         "-6.5345917",
         "-8.937576"
        ],
        [
         "31",
         "1997-01-01 07:00:00",
         "7.75",
         "55.75",
         "0",
         "0001",
         "-5.5533752",
         "-7.873184",
         "-6.3295135",
         "-8.904373"
        ],
        [
         "32",
         "1997-01-01 08:00:00",
         "8.0",
         "55.5",
         "0",
         "0001",
         "-5.3009796",
         "-7.9914093",
         "-6.030243",
         "-9.031006"
        ],
        [
         "33",
         "1997-01-01 08:00:00",
         "8.0",
         "55.75",
         "0",
         "0001",
         "-5.1544952",
         "-7.9826202",
         "-5.860321",
         "-9.008545"
        ],
        [
         "34",
         "1997-01-01 08:00:00",
         "7.75",
         "55.5",
         "0",
         "0001",
         "-5.3615265",
         "-7.9240265",
         "-6.096649",
         "-8.943115"
        ],
        [
         "35",
         "1997-01-01 08:00:00",
         "7.75",
         "55.75",
         "0",
         "0001",
         "-5.2521515",
         "-7.8722687",
         "-5.9599304",
         "-8.879639"
        ],
        [
         "36",
         "1997-01-01 09:00:00",
         "8.0",
         "55.5",
         "0",
         "0001",
         "-4.903656",
         "-8.026352",
         "-5.5624237",
         "-9.060776"
        ],
        [
         "37",
         "1997-01-01 09:00:00",
         "8.0",
         "55.75",
         "0",
         "0001",
         "-4.9046326",
         "-8.049789",
         "-5.554611",
         "-9.08519"
        ],
        [
         "38",
         "1997-01-01 09:00:00",
         "7.75",
         "55.5",
         "0",
         "0001",
         "-4.9856873",
         "-7.8671722",
         "-5.6503143",
         "-8.864487"
        ],
        [
         "39",
         "1997-01-01 09:00:00",
         "7.75",
         "55.75",
         "0",
         "0001",
         "-4.9739685",
         "-7.8193207",
         "-5.632736",
         "-8.809799"
        ],
        [
         "40",
         "1997-01-01 10:00:00",
         "8.0",
         "55.5",
         "0",
         "0001",
         "-4.672409",
         "-7.932022",
         "-5.284424",
         "-8.929657"
        ],
        [
         "41",
         "1997-01-01 10:00:00",
         "8.0",
         "55.75",
         "0",
         "0001",
         "-4.6821747",
         "-7.9691315",
         "-5.2961426",
         "-8.974579"
        ],
        [
         "42",
         "1997-01-01 10:00:00",
         "7.75",
         "55.5",
         "0",
         "0001",
         "-4.6626434",
         "-7.6966705",
         "-5.2648926",
         "-8.639618"
        ],
        [
         "43",
         "1997-01-01 10:00:00",
         "7.75",
         "55.75",
         "0",
         "0001",
         "-4.7476044",
         "-7.7396393",
         "-5.352783",
         "-8.693329"
        ],
        [
         "44",
         "1997-01-01 11:00:00",
         "8.0",
         "55.5",
         "0",
         "0001",
         "-4.3418274",
         "-7.853836",
         "-4.9146423",
         "-8.831055"
        ],
        [
         "45",
         "1997-01-01 11:00:00",
         "8.0",
         "55.75",
         "0",
         "0001",
         "-4.331085",
         "-7.8841095",
         "-4.912689",
         "-8.8671875"
        ],
        [
         "46",
         "1997-01-01 11:00:00",
         "7.75",
         "55.5",
         "0",
         "0001",
         "-4.398468",
         "-7.8167267",
         "-4.9615173",
         "-8.756836"
        ],
        [
         "47",
         "1997-01-01 11:00:00",
         "7.75",
         "55.75",
         "0",
         "0001",
         "-4.40921",
         "-7.843094",
         "-4.9790955",
         "-8.800781"
        ],
        [
         "48",
         "1997-01-01 12:00:00",
         "8.0",
         "55.5",
         "0",
         "0001",
         "-3.9493408",
         "-7.753311",
         "-4.474457",
         "-8.691132"
        ],
        [
         "49",
         "1997-01-01 12:00:00",
         "8.0",
         "55.75",
         "0",
         "0001",
         "-3.9278564",
         "-7.7435455",
         "-4.458832",
         "-8.685272"
        ]
       ],
       "shape": {
        "columns": 9,
        "rows": 946656
       }
      },
      "text/html": [
       "<div>\n",
       "<style scoped>\n",
       "    .dataframe tbody tr th:only-of-type {\n",
       "        vertical-align: middle;\n",
       "    }\n",
       "\n",
       "    .dataframe tbody tr th {\n",
       "        vertical-align: top;\n",
       "    }\n",
       "\n",
       "    .dataframe thead th {\n",
       "        text-align: right;\n",
       "    }\n",
       "</style>\n",
       "<table border=\"1\" class=\"dataframe\">\n",
       "  <thead>\n",
       "    <tr style=\"text-align: right;\">\n",
       "      <th></th>\n",
       "      <th>valid_time</th>\n",
       "      <th>latitude</th>\n",
       "      <th>longitude</th>\n",
       "      <th>number</th>\n",
       "      <th>expver</th>\n",
       "      <th>u10</th>\n",
       "      <th>v10</th>\n",
       "      <th>u100</th>\n",
       "      <th>v100</th>\n",
       "    </tr>\n",
       "  </thead>\n",
       "  <tbody>\n",
       "    <tr>\n",
       "      <th>0</th>\n",
       "      <td>1997-01-01 00:00:00</td>\n",
       "      <td>8.00</td>\n",
       "      <td>55.50</td>\n",
       "      <td>0</td>\n",
       "      <td>0001</td>\n",
       "      <td>-5.129883</td>\n",
       "      <td>-7.070343</td>\n",
       "      <td>-5.775009</td>\n",
       "      <td>-7.893539</td>\n",
       "    </tr>\n",
       "    <tr>\n",
       "      <th>1</th>\n",
       "      <td>1997-01-01 00:00:00</td>\n",
       "      <td>8.00</td>\n",
       "      <td>55.75</td>\n",
       "      <td>0</td>\n",
       "      <td>0001</td>\n",
       "      <td>-5.128906</td>\n",
       "      <td>-7.074249</td>\n",
       "      <td>-5.767197</td>\n",
       "      <td>-7.916000</td>\n",
       "    </tr>\n",
       "    <tr>\n",
       "      <th>2</th>\n",
       "      <td>1997-01-01 00:00:00</td>\n",
       "      <td>7.75</td>\n",
       "      <td>55.50</td>\n",
       "      <td>0</td>\n",
       "      <td>0001</td>\n",
       "      <td>-5.064453</td>\n",
       "      <td>-7.151398</td>\n",
       "      <td>-5.692978</td>\n",
       "      <td>-7.980453</td>\n",
       "    </tr>\n",
       "    <tr>\n",
       "      <th>3</th>\n",
       "      <td>1997-01-01 00:00:00</td>\n",
       "      <td>7.75</td>\n",
       "      <td>55.75</td>\n",
       "      <td>0</td>\n",
       "      <td>0001</td>\n",
       "      <td>-5.052734</td>\n",
       "      <td>-7.126007</td>\n",
       "      <td>-5.681259</td>\n",
       "      <td>-7.950180</td>\n",
       "    </tr>\n",
       "    <tr>\n",
       "      <th>4</th>\n",
       "      <td>1997-01-01 01:00:00</td>\n",
       "      <td>8.00</td>\n",
       "      <td>55.50</td>\n",
       "      <td>0</td>\n",
       "      <td>0001</td>\n",
       "      <td>-5.460739</td>\n",
       "      <td>-7.175369</td>\n",
       "      <td>-6.158142</td>\n",
       "      <td>-8.034683</td>\n",
       "    </tr>\n",
       "    <tr>\n",
       "      <th>...</th>\n",
       "      <td>...</td>\n",
       "      <td>...</td>\n",
       "      <td>...</td>\n",
       "      <td>...</td>\n",
       "      <td>...</td>\n",
       "      <td>...</td>\n",
       "      <td>...</td>\n",
       "      <td>...</td>\n",
       "      <td>...</td>\n",
       "    </tr>\n",
       "    <tr>\n",
       "      <th>946651</th>\n",
       "      <td>2023-12-31 22:00:00</td>\n",
       "      <td>7.75</td>\n",
       "      <td>55.75</td>\n",
       "      <td>0</td>\n",
       "      <td>0001</td>\n",
       "      <td>-4.193115</td>\n",
       "      <td>-4.812347</td>\n",
       "      <td>-4.692459</td>\n",
       "      <td>-5.313354</td>\n",
       "    </tr>\n",
       "    <tr>\n",
       "      <th>946652</th>\n",
       "      <td>2023-12-31 23:00:00</td>\n",
       "      <td>8.00</td>\n",
       "      <td>55.50</td>\n",
       "      <td>0</td>\n",
       "      <td>0001</td>\n",
       "      <td>-3.792526</td>\n",
       "      <td>-5.225235</td>\n",
       "      <td>-4.245819</td>\n",
       "      <td>-5.772034</td>\n",
       "    </tr>\n",
       "    <tr>\n",
       "      <th>946653</th>\n",
       "      <td>2023-12-31 23:00:00</td>\n",
       "      <td>8.00</td>\n",
       "      <td>55.75</td>\n",
       "      <td>0</td>\n",
       "      <td>0001</td>\n",
       "      <td>-3.910690</td>\n",
       "      <td>-5.023087</td>\n",
       "      <td>-4.380585</td>\n",
       "      <td>-5.562073</td>\n",
       "    </tr>\n",
       "    <tr>\n",
       "      <th>946654</th>\n",
       "      <td>2023-12-31 23:00:00</td>\n",
       "      <td>7.75</td>\n",
       "      <td>55.50</td>\n",
       "      <td>0</td>\n",
       "      <td>0001</td>\n",
       "      <td>-3.795456</td>\n",
       "      <td>-5.147110</td>\n",
       "      <td>-4.232147</td>\n",
       "      <td>-5.684143</td>\n",
       "    </tr>\n",
       "    <tr>\n",
       "      <th>946655</th>\n",
       "      <td>2023-12-31 23:00:00</td>\n",
       "      <td>7.75</td>\n",
       "      <td>55.75</td>\n",
       "      <td>0</td>\n",
       "      <td>0001</td>\n",
       "      <td>-4.053268</td>\n",
       "      <td>-4.889297</td>\n",
       "      <td>-4.504608</td>\n",
       "      <td>-5.411682</td>\n",
       "    </tr>\n",
       "  </tbody>\n",
       "</table>\n",
       "<p>946656 rows × 9 columns</p>\n",
       "</div>"
      ],
      "text/plain": [
       "                valid_time  latitude  longitude  number expver       u10  \\\n",
       "0      1997-01-01 00:00:00      8.00      55.50       0   0001 -5.129883   \n",
       "1      1997-01-01 00:00:00      8.00      55.75       0   0001 -5.128906   \n",
       "2      1997-01-01 00:00:00      7.75      55.50       0   0001 -5.064453   \n",
       "3      1997-01-01 00:00:00      7.75      55.75       0   0001 -5.052734   \n",
       "4      1997-01-01 01:00:00      8.00      55.50       0   0001 -5.460739   \n",
       "...                    ...       ...        ...     ...    ...       ...   \n",
       "946651 2023-12-31 22:00:00      7.75      55.75       0   0001 -4.193115   \n",
       "946652 2023-12-31 23:00:00      8.00      55.50       0   0001 -3.792526   \n",
       "946653 2023-12-31 23:00:00      8.00      55.75       0   0001 -3.910690   \n",
       "946654 2023-12-31 23:00:00      7.75      55.50       0   0001 -3.795456   \n",
       "946655 2023-12-31 23:00:00      7.75      55.75       0   0001 -4.053268   \n",
       "\n",
       "             v10      u100      v100  \n",
       "0      -7.070343 -5.775009 -7.893539  \n",
       "1      -7.074249 -5.767197 -7.916000  \n",
       "2      -7.151398 -5.692978 -7.980453  \n",
       "3      -7.126007 -5.681259 -7.950180  \n",
       "4      -7.175369 -6.158142 -8.034683  \n",
       "...          ...       ...       ...  \n",
       "946651 -4.812347 -4.692459 -5.313354  \n",
       "946652 -5.225235 -4.245819 -5.772034  \n",
       "946653 -5.023087 -4.380585 -5.562073  \n",
       "946654 -5.147110 -4.232147 -5.684143  \n",
       "946655 -4.889297 -4.504608 -5.411682  \n",
       "\n",
       "[946656 rows x 9 columns]"
      ]
     },
     "execution_count": 11,
     "metadata": {},
     "output_type": "execute_result"
    }
   ],
   "source": [
    "# Display the combined dataset\n",
    "WindData"
   ]
  },
  {
   "cell_type": "code",
   "execution_count": null,
   "metadata": {},
   "outputs": [],
   "source": [
    "plt.plot(WindData['u10'])"
   ]
  },
  {
   "cell_type": "code",
   "execution_count": null,
   "metadata": {},
   "outputs": [
    {
     "data": {
      "text/plain": [
       "[<matplotlib.lines.Line2D at 0x2010e1ae550>]"
      ]
     },
     "execution_count": 7,
     "metadata": {},
     "output_type": "execute_result"
    },
    {
     "data": {
      "image/png": "[encoded data removed]",
      "text/plain": [
       "<Figure size 640x480 with 1 Axes>"
      ]
     },
     "metadata": {},
     "output_type": "display_data"
    }
   ],
   "source": [
    "plt.plot(WindData['v10'])"
   ]
  },
  {
   "cell_type": "code",
   "execution_count": 8,
   "metadata": {},
   "outputs": [
    {
     "data": {
      "text/plain": [
       "[<matplotlib.lines.Line2D at 0x2010e220250>]"
      ]
     },
     "execution_count": 8,
     "metadata": {},
     "output_type": "execute_result"
    },
    {
     "data": {
      "image/png": "[encoded data removed]",
      "text/plain": [
       "<Figure size 640x480 with 1 Axes>"
      ]
     },
     "metadata": {},
     "output_type": "display_data"
    }
   ],
   "source": [
    "plt.plot(WindData['u100'])\n"
   ]
  },
  {
   "cell_type": "code",
   "execution_count": 9,
   "metadata": {},
   "outputs": [
    {
     "data": {
      "text/plain": [
       "[<matplotlib.lines.Line2D at 0x2010df20710>]"
      ]
     },
     "execution_count": 9,
     "metadata": {},
     "output_type": "execute_result"
    },
    {
     "data": {
      "image/png": "[encoded data removed]",
      "text/plain": [
       "<Figure size 640x480 with 1 Axes>"
      ]
     },
     "metadata": {},
     "output_type": "display_data"
    }
   ],
   "source": [
    "plt.plot(WindData['v100'])"
   ]
  }
 ],
 "metadata": {
  "kernelspec": {
   "display_name": "base",
   "language": "python",
   "name": "python3"
  },
  "language_info": {
   "codemirror_mode": {
    "name": "ipython",
    "version": 3
   },
   "file_extension": ".py",
   "mimetype": "text/x-python",
   "name": "python",
   "nbconvert_exporter": "python",
   "pygments_lexer": "ipython3",
   "version": "3.11.5"
  }
 },
 "nbformat": 4,
 "nbformat_minor": 2
}
